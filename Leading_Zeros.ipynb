{
 "cells": [
  {
   "cell_type": "code",
   "execution_count": 32,
   "id": "2164ce2e",
   "metadata": {},
   "outputs": [],
   "source": [
    "#import LibraryCopy of Copy of PlayPower Claims Data and Address File_Estimated Ing Cost Added_Ryan_copyA\n",
    "import pandas as pd\n",
    "import xlwings as xw"
   ]
  },
  {
   "cell_type": "code",
   "execution_count": 61,
   "id": "95f8d03f",
   "metadata": {},
   "outputs": [],
   "source": [
    "#Read csv \n",
    "\n",
    "def Zeros():\n",
    "    wb=xw.Book.caller()\n",
    "    df=pd.read_excel(r'Z:\\Shared\\Offices\\STL01\\Analytics\\Data Files\\Allison_Practice\\PlayPower_max_help.xlsm',sheet_name='MDT_006399CH1_20221107_Unedited')\n",
    "    df['NDC']=df['NDC'].astype(str)\n",
    "    df['NDC']=df['NDC'].str.zfill(11)\n",
    "    df['NDC']=df['NDC'].str.rjust(11,'0')\n",
    "#df['NDC'] = '{0:0>15}'.format(df['NDC'])\n",
    "\n",
    "    df['NDC'] = df['NDC'].apply(lambda x: x.zfill(11))\n",
    "\n",
    "\n",
    "#df['NDC number'] = df['NDC number'].apply(lambda x: '{0:0>11}'.format(x))\n",
    "    \n",
    "    \n",
    "\n",
    "#df=pd.read_excel(r'Z:\\Shared\\Offices\\STL01\\Analytics\\Data Files\\Allison_Practice\\PlayPower_max_help.xlsx',sheet_name='MDT_006399CH1_20221107_Unedited')\n",
    "\n",
    "#wb = xw.sheets['MDT_006399CH1_20221107_Unedited']\n",
    "# connect to a file that is open or in the current working directory\n",
    "#wb = xw.Book(r'Z:\\Shared\\Offices\\STL01\\Analytics\\Data Files\\Allison_Practice\\PlayPower_max_help.xlsx')\n"
   ]
  },
  {
   "cell_type": "code",
   "execution_count": 48,
   "id": "93136e4e",
   "metadata": {},
   "outputs": [],
   "source": [
    "#change data type of NDC column to str\n",
    "df['NDC']=df['NDC'].astype(str)"
   ]
  },
  {
   "cell_type": "code",
   "execution_count": 49,
   "id": "d3af4501",
   "metadata": {},
   "outputs": [],
   "source": [
    "#add leading zeros\n",
    "df['NDC']=df['NDC'].str.zfill(11)\n",
    "df['NDC']=df['NDC'].str.rjust(11,'0')\n",
    "#df['NDC'] = '{0:0>15}'.format(df['NDC'])\n",
    "\n",
    "df['NDC'] = df['NDC'].apply(lambda x: x.zfill(11))\n",
    "\n",
    "#df['NDC number'] = df['NDC number'].apply(lambda x: '{0:0>11}'.format(x))"
   ]
  },
  {
   "cell_type": "code",
   "execution_count": 50,
   "id": "82f089d3",
   "metadata": {},
   "outputs": [
    {
     "name": "stdout",
     "output_type": "stream",
     "text": [
      "0        80777028205\n",
      "1        00054074287\n",
      "2        00054074287\n",
      "3        69315028209\n",
      "4        00093216568\n",
      "            ...     \n",
      "23613    59267100002\n",
      "23614    59267100002\n",
      "23615    59267100002\n",
      "23616    59267100002\n",
      "23617    59267100002\n",
      "Name: NDC, Length: 23618, dtype: object\n"
     ]
    }
   ],
   "source": [
    "print(df['NDC'])"
   ]
  }
 ],
 "metadata": {
  "kernelspec": {
   "display_name": "Python 3 (ipykernel)",
   "language": "python",
   "name": "python3"
  },
  "language_info": {
   "codemirror_mode": {
    "name": "ipython",
    "version": 3
   },
   "file_extension": ".py",
   "mimetype": "text/x-python",
   "name": "python",
   "nbconvert_exporter": "python",
   "pygments_lexer": "ipython3",
   "version": "3.9.15"
  }
 },
 "nbformat": 4,
 "nbformat_minor": 5
}
